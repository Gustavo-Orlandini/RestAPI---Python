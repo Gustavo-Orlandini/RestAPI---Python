{
 "cells": [
  {
   "cell_type": "code",
   "execution_count": 6,
   "metadata": {},
   "outputs": [],
   "source": [
    "from pymongo import MongoClient\n",
    "from fastapi import HTTPException"
   ]
  },
  {
   "cell_type": "code",
   "execution_count": 8,
   "metadata": {},
   "outputs": [],
   "source": [
    "members = {\n",
    "    1: {\"nome\": \"Gustavo Suguyama Orlandini\", \"cpf\": 38488266820, \"idade\": 32, \"disponivel\": True},\n",
    "    2: {\"nome\": \"Victor Belarlindo Gomes\", \"cpf\": 33899844890, \"idade\": 61, \"disponivel\": True},\n",
    "    3: {\"nome\": \"Vitin Silva Sauro\", \"cpf\": 32933444323, \"idade\": 43, \"disponivel\": True},\n",
    "    4: {\"nome\": \"João Pedro Cardoso\", \"cpf\": 52299733830, \"idade\": 19, \"disponivel\": True},\n",
    "}\n"
   ]
  },
  {
   "cell_type": "code",
   "execution_count": 9,
   "metadata": {},
   "outputs": [],
   "source": [
    "\n",
    "class MemberManager:\n",
    "    def __init__(self, members):\n",
    "        self.members = members\n",
    "\n",
    "    def get_member(self, id):\n",
    "        if id in self.members and self.members[id][\"disponivel\"]:\n",
    "            return self.members[id]\n",
    "        else:\n",
    "            raise HTTPException(status_code=404, detail=\"Membro Indisponível ou não encontrado\")\n"
   ]
  },
  {
   "cell_type": "code",
   "execution_count": 10,
   "metadata": {},
   "outputs": [
    {
     "data": {
      "text/plain": [
       "{'nome': 'Victor Belarlindo Gomes',\n",
       " 'cpf': 33899844890,\n",
       " 'idade': 61,\n",
       " 'disponivel': True}"
      ]
     },
     "execution_count": 10,
     "metadata": {},
     "output_type": "execute_result"
    }
   ],
   "source": [
    "member_manager = MemberManager(members)\n",
    "specific_member = member_manager.get_member(id = 2)\n",
    "specific_member  "
   ]
  },
  {
   "cell_type": "code",
   "execution_count": null,
   "metadata": {},
   "outputs": [],
   "source": []
  }
 ],
 "metadata": {
  "kernelspec": {
   "display_name": "env",
   "language": "python",
   "name": "python3"
  },
  "language_info": {
   "codemirror_mode": {
    "name": "ipython",
    "version": 3
   },
   "file_extension": ".py",
   "mimetype": "text/x-python",
   "name": "python",
   "nbconvert_exporter": "python",
   "pygments_lexer": "ipython3",
   "version": "3.11.5"
  },
  "orig_nbformat": 4
 },
 "nbformat": 4,
 "nbformat_minor": 2
}
